{
 "cells": [
  {
   "cell_type": "code",
   "execution_count": 1,
   "metadata": {},
   "outputs": [
    {
     "name": "stdout",
     "output_type": "stream",
     "text": [
      "INFO:tensorflow:Using local port 15316\n",
      "INFO:tensorflow:Using local port 19521\n",
      "INFO:tensorflow:Using local port 19658\n",
      "INFO:tensorflow:Using local port 23554\n",
      "INFO:tensorflow:Using local port 23206\n",
      "INFO:tensorflow:Using local port 21573\n",
      "INFO:tensorflow:Using local port 15531\n",
      "INFO:tensorflow:Using local port 16960\n",
      "INFO:tensorflow:Using local port 19890\n",
      "INFO:tensorflow:Using local port 19433\n"
     ]
    }
   ],
   "source": [
    "import tensorflow as tf\n",
    "from tensorflow.keras.preprocessing.image import ImageDataGenerator"
   ]
  },
  {
   "cell_type": "code",
   "execution_count": 2,
   "metadata": {
    "scrolled": true
   },
   "outputs": [
    {
     "name": "stdout",
     "output_type": "stream",
     "text": [
      "Found 8000 images belonging to 2 classes.\n"
     ]
    }
   ],
   "source": [
    "train_datagen = ImageDataGenerator(\n",
    "                rescale = 1./255,\n",
    "                shear_range = 0.2,\n",
    "                zoom_range = 0.2,\n",
    "                horizontal_flip = True)\n",
    "training_set = train_datagen.flow_from_directory(\n",
    "                'Dataset/dataset/training_set',\n",
    "                target_size = (64,64),\n",
    "                batch_size = 32,\n",
    "                class_mode = 'binary')"
   ]
  },
  {
   "cell_type": "code",
   "execution_count": 3,
   "metadata": {},
   "outputs": [
    {
     "name": "stdout",
     "output_type": "stream",
     "text": [
      "Found 2000 images belonging to 2 classes.\n"
     ]
    }
   ],
   "source": [
    "test_datagen = ImageDataGenerator(rescale=1./255)\n",
    "test_set = test_datagen.flow_from_directory(\n",
    "                'Dataset/dataset/test_set',\n",
    "                target_size = (64,64),\n",
    "                batch_size = 32,\n",
    "                class_mode = 'binary')"
   ]
  },
  {
   "cell_type": "code",
   "execution_count": 4,
   "metadata": {},
   "outputs": [],
   "source": [
    "cnn = tf.keras.models.Sequential()"
   ]
  },
  {
   "cell_type": "code",
   "execution_count": 5,
   "metadata": {},
   "outputs": [],
   "source": [
    "cnn.add(tf.keras.layers.Conv2D(filters=32, kernel_size=3, activation='relu', input_shape=[64,64,3]))"
   ]
  },
  {
   "cell_type": "code",
   "execution_count": 6,
   "metadata": {},
   "outputs": [],
   "source": [
    "cnn.add(tf.keras.layers.MaxPool2D(pool_size=2, strides=2))"
   ]
  },
  {
   "cell_type": "code",
   "execution_count": 7,
   "metadata": {},
   "outputs": [],
   "source": [
    "cnn.add(tf.keras.layers.Conv2D(filters=32, kernel_size=3, activation='relu'))\n",
    "cnn.add(tf.keras.layers.MaxPool2D(pool_size=2, strides=2))"
   ]
  },
  {
   "cell_type": "code",
   "execution_count": 8,
   "metadata": {},
   "outputs": [],
   "source": [
    "cnn.add(tf.keras.layers.Flatten())"
   ]
  },
  {
   "cell_type": "code",
   "execution_count": 9,
   "metadata": {},
   "outputs": [],
   "source": [
    "cnn.add(tf.keras.layers.Dense(units=128, activation='relu'))"
   ]
  },
  {
   "cell_type": "code",
   "execution_count": 10,
   "metadata": {},
   "outputs": [],
   "source": [
    "cnn.add(tf.keras.layers.Dense(units=1, activation='sigmoid'))"
   ]
  },
  {
   "cell_type": "code",
   "execution_count": 11,
   "metadata": {},
   "outputs": [],
   "source": [
    "cnn.compile(optimizer='adam', loss = 'binary_crossentropy', metrics = ['accuracy'])"
   ]
  },
  {
   "cell_type": "code",
   "execution_count": null,
   "metadata": {
    "scrolled": false
   },
   "outputs": [
    {
     "name": "stdout",
     "output_type": "stream",
     "text": [
      "Epoch 1/100\n",
      "WARNING:tensorflow:AutoGraph could not transform <function Model.make_train_function.<locals>.train_function at 0x7fba8da98598> and will run it as-is.\n",
      "Please report this to the TensorFlow team. When filing the bug, set the verbosity to 10 (on Linux, `export AUTOGRAPH_VERBOSITY=10`) and attach the full output.\n",
      "Cause: 'arguments' object has no attribute 'posonlyargs'\n",
      "To silence this warning, decorate the function with @tf.autograph.experimental.do_not_convert\n",
      "WARNING: AutoGraph could not transform <function Model.make_train_function.<locals>.train_function at 0x7fba8da98598> and will run it as-is.\n",
      "Please report this to the TensorFlow team. When filing the bug, set the verbosity to 10 (on Linux, `export AUTOGRAPH_VERBOSITY=10`) and attach the full output.\n",
      "Cause: 'arguments' object has no attribute 'posonlyargs'\n",
      "To silence this warning, decorate the function with @tf.autograph.experimental.do_not_convert\n",
      "250/250 [==============================] - ETA: 0s - loss: 0.7009 - accuracy: 0.5297WARNING:tensorflow:AutoGraph could not transform <function Model.make_test_function.<locals>.test_function at 0x7fba8daf0378> and will run it as-is.\n",
      "Please report this to the TensorFlow team. When filing the bug, set the verbosity to 10 (on Linux, `export AUTOGRAPH_VERBOSITY=10`) and attach the full output.\n",
      "Cause: 'arguments' object has no attribute 'posonlyargs'\n",
      "To silence this warning, decorate the function with @tf.autograph.experimental.do_not_convert\n",
      "WARNING: AutoGraph could not transform <function Model.make_test_function.<locals>.test_function at 0x7fba8daf0378> and will run it as-is.\n",
      "Please report this to the TensorFlow team. When filing the bug, set the verbosity to 10 (on Linux, `export AUTOGRAPH_VERBOSITY=10`) and attach the full output.\n",
      "Cause: 'arguments' object has no attribute 'posonlyargs'\n",
      "To silence this warning, decorate the function with @tf.autograph.experimental.do_not_convert\n",
      "250/250 [==============================] - 41s 160ms/step - loss: 0.7008 - accuracy: 0.5299 - val_loss: 0.6500 - val_accuracy: 0.6030\n",
      "Epoch 2/100\n",
      "250/250 [==============================] - 33s 134ms/step - loss: 0.6397 - accuracy: 0.6392 - val_loss: 0.6114 - val_accuracy: 0.6720\n",
      "Epoch 3/100\n",
      "250/250 [==============================] - 33s 133ms/step - loss: 0.6063 - accuracy: 0.6718 - val_loss: 0.5556 - val_accuracy: 0.7155\n",
      "Epoch 4/100\n",
      "250/250 [==============================] - 32s 127ms/step - loss: 0.5694 - accuracy: 0.7055 - val_loss: 0.5480 - val_accuracy: 0.7270\n",
      "Epoch 5/100\n",
      "250/250 [==============================] - 32s 127ms/step - loss: 0.5386 - accuracy: 0.7263 - val_loss: 0.5355 - val_accuracy: 0.7400\n",
      "Epoch 6/100\n",
      "250/250 [==============================] - 32s 127ms/step - loss: 0.5234 - accuracy: 0.7420 - val_loss: 0.5229 - val_accuracy: 0.7495\n",
      "Epoch 7/100\n",
      "250/250 [==============================] - 32s 126ms/step - loss: 0.4891 - accuracy: 0.7691 - val_loss: 0.4802 - val_accuracy: 0.7785\n",
      "Epoch 8/100\n",
      "250/250 [==============================] - 31s 126ms/step - loss: 0.4729 - accuracy: 0.7632 - val_loss: 0.4955 - val_accuracy: 0.7695\n",
      "Epoch 9/100\n",
      "250/250 [==============================] - 32s 126ms/step - loss: 0.4694 - accuracy: 0.7728 - val_loss: 0.4958 - val_accuracy: 0.7620\n",
      "Epoch 10/100\n",
      "250/250 [==============================] - 32s 126ms/step - loss: 0.4431 - accuracy: 0.7922 - val_loss: 0.4667 - val_accuracy: 0.7890\n",
      "Epoch 11/100\n",
      "250/250 [==============================] - 31s 126ms/step - loss: 0.4212 - accuracy: 0.8011 - val_loss: 0.4694 - val_accuracy: 0.7900\n",
      "Epoch 12/100\n",
      "250/250 [==============================] - 31s 126ms/step - loss: 0.4213 - accuracy: 0.8041 - val_loss: 0.4945 - val_accuracy: 0.7810\n",
      "Epoch 13/100\n",
      "250/250 [==============================] - 31s 126ms/step - loss: 0.4047 - accuracy: 0.8153 - val_loss: 0.4688 - val_accuracy: 0.8010\n",
      "Epoch 14/100\n",
      "250/250 [==============================] - 31s 125ms/step - loss: 0.3975 - accuracy: 0.8158 - val_loss: 0.4840 - val_accuracy: 0.7895\n",
      "Epoch 15/100\n",
      "250/250 [==============================] - 31s 125ms/step - loss: 0.3679 - accuracy: 0.8272 - val_loss: 0.4641 - val_accuracy: 0.7995\n",
      "Epoch 16/100\n",
      "250/250 [==============================] - 31s 126ms/step - loss: 0.3645 - accuracy: 0.8335 - val_loss: 0.4772 - val_accuracy: 0.7970\n",
      "Epoch 17/100\n",
      "250/250 [==============================] - 31s 125ms/step - loss: 0.3448 - accuracy: 0.8470 - val_loss: 0.4811 - val_accuracy: 0.7985\n",
      "Epoch 18/100\n",
      "250/250 [==============================] - 31s 126ms/step - loss: 0.3236 - accuracy: 0.8560 - val_loss: 0.4911 - val_accuracy: 0.7770\n",
      "Epoch 19/100\n",
      "250/250 [==============================] - 32s 127ms/step - loss: 0.3198 - accuracy: 0.8601 - val_loss: 0.4740 - val_accuracy: 0.7985\n",
      "Epoch 20/100\n",
      "250/250 [==============================] - 32s 128ms/step - loss: 0.3184 - accuracy: 0.8599 - val_loss: 0.4966 - val_accuracy: 0.7970\n",
      "Epoch 21/100\n",
      "250/250 [==============================] - ETA: 0s - loss: 0.2826 - accuracy: 0.8792"
     ]
    }
   ],
   "source": [
    "cnn.fit(x = training_set, validation_data = test_set, epochs = 100)"
   ]
  },
  {
   "cell_type": "code",
   "execution_count": 14,
   "metadata": {},
   "outputs": [],
   "source": [
    "import numpy as np\n",
    "from tensorflow.keras.preprocessing import image\n",
    "test_image = image.load_img('Dataset/dataset/single_prediction/cat_or_dog_.jpg', target_size = [64,64])\n",
    "test_image = image.img_to_array(test_image)\n",
    "test_image = np.expand_dims(test_image, axis = 0)\n",
    "result = cnn.predict(test_image)\n",
    "training_set.class_indices\n",
    "if result[0][0] == 1:\n",
    "    prediction = 'dog'\n",
    "else:\n",
    "    prediction = 'cat'"
   ]
  },
  {
   "cell_type": "code",
   "execution_count": 15,
   "metadata": {},
   "outputs": [
    {
     "name": "stdout",
     "output_type": "stream",
     "text": [
      "dog\n"
     ]
    }
   ],
   "source": [
    "print(prediction)"
   ]
  },
  {
   "cell_type": "code",
   "execution_count": null,
   "metadata": {},
   "outputs": [],
   "source": []
  }
 ],
 "metadata": {
  "kernelspec": {
   "display_name": "Python 3",
   "language": "python",
   "name": "python3"
  },
  "language_info": {
   "codemirror_mode": {
    "name": "ipython",
    "version": 3
   },
   "file_extension": ".py",
   "mimetype": "text/x-python",
   "name": "python",
   "nbconvert_exporter": "python",
   "pygments_lexer": "ipython3",
   "version": "3.6.12"
  }
 },
 "nbformat": 4,
 "nbformat_minor": 2
}
